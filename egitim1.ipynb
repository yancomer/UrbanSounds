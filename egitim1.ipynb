{
  "nbformat": 4,
  "nbformat_minor": 0,
  "metadata": {
    "colab": {
      "provenance": []
    },
    "kernelspec": {
      "name": "python3",
      "display_name": "Python 3"
    },
    "language_info": {
      "name": "python"
    },
    "accelerator": "GPU"
  },
  "cells": [
    {
      "cell_type": "code",
      "execution_count": null,
      "metadata": {
        "id": "Ik0DtXvkopzD"
      },
      "outputs": [],
      "source": [
        "import pickle\n",
        "pickle_file_link = \"/content/drive/MyDrive/datas\"\n",
        "X_train = pickle.load(open(f\"{pickle_file_link}/X_train.pickle\",\"rb\"))\n",
        "y_train = pickle.load(open(f\"{pickle_file_link}/y_train.pickle\",\"rb\"))\n",
        "\n",
        "X_test = pickle.load(open(f\"{pickle_file_link}/X_test.pickle\",\"rb\"))\n",
        "y_test = pickle.load(open(f\"{pickle_file_link}/y_test.pickle\",\"rb\"))\n",
        "\n",
        "X_valid = pickle.load(open(f\"{pickle_file_link}/X_valid.pickle\",\"rb\"))\n",
        "y_valid = pickle.load(open(f\"{pickle_file_link}/y_valid.pickle\",\"rb\"))"
      ]
    },
    {
      "cell_type": "code",
      "source": [
        "import matplotlib.pyplot as pyplot\n",
        "import numpy as np\n",
        "from tensorflow import keras\n",
        "from keras.utils.np_utils import to_categorical\n",
        "from keras.models import Sequential\n",
        "from keras.layers import Dense, Dropout, Flatten, Conv2D, MaxPooling2D"
      ],
      "metadata": {
        "id": "3H8f4oytp28_"
      },
      "execution_count": null,
      "outputs": []
    },
    {
      "cell_type": "code",
      "source": [
        "X_train = np.array(X_train)\n",
        "y_train = np.array(y_train)\n",
        "\n",
        "X_test = np.array(X_test)\n",
        "y_test = np.array(y_test)\n",
        "\n",
        "X_valid = np.array(X_valid)\n",
        "y_valid = np.array(y_valid)"
      ],
      "metadata": {
        "id": "YMkFYsNyqwZd"
      },
      "execution_count": null,
      "outputs": []
    },
    {
      "cell_type": "code",
      "execution_count": null,
      "metadata": {
        "colab": {
          "base_uri": "https://localhost:8080/"
        },
        "id": "RqO3ulLyeJ0h",
        "outputId": "1b488bde-2ce1-4ec7-8c51-b93a5e937100"
      },
      "outputs": [
        {
          "output_type": "stream",
          "name": "stdout",
          "text": [
            "[[1.         1.         0.45882356 ... 0.         0.         0.        ]\n",
            " [1.         1.         0.47450984 ... 0.         0.         0.        ]\n",
            " [1.         1.         0.47450984 ... 0.         0.         0.        ]\n",
            " ...\n",
            " [1.         1.         0.45882356 ... 0.         0.         0.        ]\n",
            " [1.         1.         0.9725491  ... 0.9725491  0.9725491  0.9725491 ]\n",
            " [1.         1.         1.         ... 1.         1.         1.        ]]\n",
            "[[1.         1.         0.45882356 ... 0.         0.         0.        ]\n",
            " [1.         1.         0.47450984 ... 0.         0.         0.        ]\n",
            " [1.         1.         0.47450984 ... 0.         0.         0.        ]\n",
            " ...\n",
            " [1.         1.         0.45882356 ... 0.28627452 0.30980393 0.24313727]\n",
            " [1.         1.         0.9725491  ... 0.9725491  0.9725491  0.9725491 ]\n",
            " [1.         1.         1.         ... 1.         1.         1.        ]]\n",
            "[[1.         1.         0.45882356 ... 0.         0.         0.        ]\n",
            " [1.         1.         0.47450984 ... 0.         0.         0.        ]\n",
            " [1.         1.         0.47450984 ... 0.         0.         0.        ]\n",
            " ...\n",
            " [1.         1.         0.45882356 ... 0.         0.         0.        ]\n",
            " [1.         1.         0.9725491  ... 0.9725491  0.9725491  0.9725491 ]\n",
            " [1.         1.         1.         ... 1.         1.         1.        ]]\n"
          ]
        }
      ],
      "source": [
        "print(X_train[0])\n",
        "print(X_test[0])\n",
        "print(X_valid[0])"
      ]
    },
    {
      "cell_type": "code",
      "source": [
        "X_train = X_train/100\n",
        "X_test = X_test/100\n",
        "X_valid = X_valid/100"
      ],
      "metadata": {
        "id": "A6je9dePe9Vy"
      },
      "execution_count": null,
      "outputs": []
    },
    {
      "cell_type": "code",
      "source": [
        "print(X_train[0])\n",
        "print(X_test[0])\n",
        "print(X_valid[0])"
      ],
      "metadata": {
        "colab": {
          "base_uri": "https://localhost:8080/"
        },
        "id": "buz6x7JafHfp",
        "outputId": "68c94c73-cdb0-4330-c6b4-ecbbc29ecbd9"
      },
      "execution_count": null,
      "outputs": [
        {
          "output_type": "stream",
          "name": "stdout",
          "text": [
            "[[0.01       0.01       0.00458824 ... 0.         0.         0.        ]\n",
            " [0.01       0.01       0.0047451  ... 0.         0.         0.        ]\n",
            " [0.01       0.01       0.0047451  ... 0.         0.         0.        ]\n",
            " ...\n",
            " [0.01       0.01       0.00458824 ... 0.         0.         0.        ]\n",
            " [0.01       0.01       0.00972549 ... 0.00972549 0.00972549 0.00972549]\n",
            " [0.01       0.01       0.01       ... 0.01       0.01       0.01      ]]\n",
            "[[0.01       0.01       0.00458824 ... 0.         0.         0.        ]\n",
            " [0.01       0.01       0.0047451  ... 0.         0.         0.        ]\n",
            " [0.01       0.01       0.0047451  ... 0.         0.         0.        ]\n",
            " ...\n",
            " [0.01       0.01       0.00458824 ... 0.00286275 0.00309804 0.00243137]\n",
            " [0.01       0.01       0.00972549 ... 0.00972549 0.00972549 0.00972549]\n",
            " [0.01       0.01       0.01       ... 0.01       0.01       0.01      ]]\n",
            "[[0.01       0.01       0.00458824 ... 0.         0.         0.        ]\n",
            " [0.01       0.01       0.0047451  ... 0.         0.         0.        ]\n",
            " [0.01       0.01       0.0047451  ... 0.         0.         0.        ]\n",
            " ...\n",
            " [0.01       0.01       0.00458824 ... 0.         0.         0.        ]\n",
            " [0.01       0.01       0.00972549 ... 0.00972549 0.00972549 0.00972549]\n",
            " [0.01       0.01       0.01       ... 0.01       0.01       0.01      ]]\n"
          ]
        }
      ]
    },
    {
      "cell_type": "code",
      "source": [
        "X_train = X_train.reshape(X_train.shape[0], X_train.shape[1], X_train.shape[2], 1)\n",
        "X_test = X_test.reshape(X_test.shape[0], X_test.shape[1], X_test.shape[2], 1)\n",
        "X_valid = X_valid.reshape(X_valid.shape[0], X_valid.shape[1], X_valid.shape[2], 1)"
      ],
      "metadata": {
        "id": "ieY3Bm_mfHde"
      },
      "execution_count": null,
      "outputs": []
    },
    {
      "cell_type": "code",
      "source": [
        "y_train = to_categorical(y_train)\n",
        "y_test = to_categorical(y_test)\n",
        "y_valid = to_categorical(y_valid)"
      ],
      "metadata": {
        "id": "VtoI-IkYfHbY"
      },
      "execution_count": null,
      "outputs": []
    },
    {
      "cell_type": "code",
      "source": [
        "sample = X_train[0].reshape(X_train[0].shape[0], X_train[0].shape[1], 1)"
      ],
      "metadata": {
        "id": "U942wXGrfHW7"
      },
      "execution_count": null,
      "outputs": []
    },
    {
      "cell_type": "code",
      "source": [
        "model = Sequential()\n",
        "#add model layers\n",
        "model.add(Conv2D(64, kernel_size=3, activation='relu', input_shape=sample.shape))\n",
        "model.add(MaxPooling2D())\n",
        "model.add(Conv2D(32, kernel_size=3, activation='relu'))\n",
        "model.add(MaxPooling2D())\n",
        "model.add(Flatten())\n",
        "model.add(Dense(128, activation='relu'))\n",
        "model.add(Dense(10, activation='softmax'))"
      ],
      "metadata": {
        "id": "SBWIPdPIfHTl"
      },
      "execution_count": null,
      "outputs": []
    },
    {
      "cell_type": "code",
      "source": [
        "model.compile(optimizer='adam', loss='categorical_crossentropy', metrics=['accuracy'])"
      ],
      "metadata": {
        "id": "3xMdEG3FfHRX"
      },
      "execution_count": null,
      "outputs": []
    },
    {
      "cell_type": "code",
      "source": [
        "history = model.fit(X_train, y_train, validation_data=(X_test,y_test), epochs=25, batch_size=20)"
      ],
      "metadata": {
        "colab": {
          "base_uri": "https://localhost:8080/"
        },
        "id": "F7ngc0CWfkAV",
        "outputId": "b8cc4ba4-63a8-4892-b576-f609255ec542"
      },
      "execution_count": null,
      "outputs": [
        {
          "output_type": "stream",
          "name": "stdout",
          "text": [
            "Epoch 1/25\n",
            "334/334 [==============================] - 24s 38ms/step - loss: 1.7138 - accuracy: 0.3861 - val_loss: 1.4778 - val_accuracy: 0.4695\n",
            "Epoch 2/25\n",
            "334/334 [==============================] - 12s 35ms/step - loss: 1.2285 - accuracy: 0.5824 - val_loss: 1.2486 - val_accuracy: 0.6008\n",
            "Epoch 3/25\n",
            "334/334 [==============================] - 12s 35ms/step - loss: 1.0527 - accuracy: 0.6496 - val_loss: 1.1563 - val_accuracy: 0.6321\n",
            "Epoch 4/25\n",
            "334/334 [==============================] - 12s 35ms/step - loss: 0.8990 - accuracy: 0.7044 - val_loss: 1.1424 - val_accuracy: 0.6450\n",
            "Epoch 5/25\n",
            "334/334 [==============================] - 12s 35ms/step - loss: 0.7881 - accuracy: 0.7444 - val_loss: 1.0068 - val_accuracy: 0.6733\n",
            "Epoch 6/25\n",
            "334/334 [==============================] - 12s 35ms/step - loss: 0.6787 - accuracy: 0.7811 - val_loss: 0.9374 - val_accuracy: 0.7076\n",
            "Epoch 7/25\n",
            "334/334 [==============================] - 12s 35ms/step - loss: 0.5706 - accuracy: 0.8127 - val_loss: 1.0449 - val_accuracy: 0.6618\n",
            "Epoch 8/25\n",
            "334/334 [==============================] - 12s 35ms/step - loss: 0.4657 - accuracy: 0.8449 - val_loss: 0.9199 - val_accuracy: 0.7305\n",
            "Epoch 9/25\n",
            "334/334 [==============================] - 12s 35ms/step - loss: 0.3691 - accuracy: 0.8807 - val_loss: 0.8621 - val_accuracy: 0.7656\n",
            "Epoch 10/25\n",
            "334/334 [==============================] - 12s 35ms/step - loss: 0.2870 - accuracy: 0.9069 - val_loss: 0.9666 - val_accuracy: 0.7489\n",
            "Epoch 11/25\n",
            "334/334 [==============================] - 12s 35ms/step - loss: 0.2165 - accuracy: 0.9304 - val_loss: 0.9186 - val_accuracy: 0.7672\n",
            "Epoch 12/25\n",
            "334/334 [==============================] - 12s 35ms/step - loss: 0.1644 - accuracy: 0.9477 - val_loss: 0.9185 - val_accuracy: 0.7794\n",
            "Epoch 13/25\n",
            "334/334 [==============================] - 12s 35ms/step - loss: 0.1443 - accuracy: 0.9560 - val_loss: 0.9402 - val_accuracy: 0.7832\n",
            "Epoch 14/25\n",
            "334/334 [==============================] - 12s 35ms/step - loss: 0.1110 - accuracy: 0.9671 - val_loss: 1.0792 - val_accuracy: 0.7519\n",
            "Epoch 15/25\n",
            "334/334 [==============================] - 12s 35ms/step - loss: 0.0842 - accuracy: 0.9762 - val_loss: 1.1831 - val_accuracy: 0.7748\n",
            "Epoch 16/25\n",
            "334/334 [==============================] - 12s 35ms/step - loss: 0.0715 - accuracy: 0.9807 - val_loss: 1.1711 - val_accuracy: 0.7855\n",
            "Epoch 17/25\n",
            "334/334 [==============================] - 12s 35ms/step - loss: 0.0635 - accuracy: 0.9841 - val_loss: 1.3438 - val_accuracy: 0.7496\n",
            "Epoch 18/25\n",
            "334/334 [==============================] - 12s 35ms/step - loss: 0.0538 - accuracy: 0.9838 - val_loss: 1.2323 - val_accuracy: 0.7718\n",
            "Epoch 19/25\n",
            "334/334 [==============================] - 12s 35ms/step - loss: 0.0301 - accuracy: 0.9928 - val_loss: 1.1451 - val_accuracy: 0.7931\n",
            "Epoch 20/25\n",
            "334/334 [==============================] - 12s 36ms/step - loss: 0.0367 - accuracy: 0.9895 - val_loss: 1.3022 - val_accuracy: 0.7725\n",
            "Epoch 21/25\n",
            "334/334 [==============================] - 12s 35ms/step - loss: 0.0430 - accuracy: 0.9870 - val_loss: 1.2727 - val_accuracy: 0.7832\n",
            "Epoch 22/25\n",
            "334/334 [==============================] - 12s 35ms/step - loss: 0.0149 - accuracy: 0.9952 - val_loss: 1.4111 - val_accuracy: 0.7779\n",
            "Epoch 23/25\n",
            "334/334 [==============================] - 12s 35ms/step - loss: 0.0478 - accuracy: 0.9840 - val_loss: 1.4954 - val_accuracy: 0.7718\n",
            "Epoch 24/25\n",
            "334/334 [==============================] - 12s 35ms/step - loss: 0.0412 - accuracy: 0.9879 - val_loss: 1.2590 - val_accuracy: 0.7824\n",
            "Epoch 25/25\n",
            "334/334 [==============================] - 12s 36ms/step - loss: 0.0670 - accuracy: 0.9801 - val_loss: 1.5082 - val_accuracy: 0.7603\n"
          ]
        }
      ]
    },
    {
      "cell_type": "code",
      "source": [
        "pyplot.plot(history.history[\"loss\"],label=\"loss\")\n",
        "pyplot.plot(history.history[\"val_loss\"],label=\"val_loss\")\n",
        "\n",
        "pyplot.xlabel(\"Epoch\")\n",
        "pyplot.ylabel(\"loss\")\n",
        "\n",
        "pyplot.legend()\n",
        "pyplot.show()"
      ],
      "metadata": {
        "colab": {
          "base_uri": "https://localhost:8080/",
          "height": 279
        },
        "id": "tKKfxkwOfj-o",
        "outputId": "418e4eff-0c2f-413e-fe50-c22c021e0e13"
      },
      "execution_count": null,
      "outputs": [
        {
          "output_type": "display_data",
          "data": {
            "text/plain": [
              "<Figure size 432x288 with 1 Axes>"
            ],
            "image/png": "[encoded data removed]"
          },
          "metadata": {
            "needs_background": "light"
          }
        }
      ]
    },
    {
      "cell_type": "code",
      "source": [
        "pyplot.plot(history.history[\"accuracy\"],label=\"accuracy\")\n",
        "pyplot.plot(history.history[\"val_accuracy\"],label=\"val_accuracy\")\n",
        "\n",
        "pyplot.xlabel(\"Epoch\")\n",
        "pyplot.ylabel(\"Accuracy\")\n",
        "\n",
        "pyplot.legend()\n",
        "pyplot.show()"
      ],
      "metadata": {
        "colab": {
          "base_uri": "https://localhost:8080/",
          "height": 279
        },
        "id": "VZDVj0Fwfj8r",
        "outputId": "b4dd7356-4e88-43b1-cfbd-d0b10ec25e75"
      },
      "execution_count": null,
      "outputs": [
        {
          "output_type": "display_data",
          "data": {
            "text/plain": [
              "<Figure size 432x288 with 1 Axes>"
            ],
            "image/png": "[encoded data removed]"
          },
          "metadata": {
            "needs_background": "light"
          }
        }
      ]
    },
    {
      "cell_type": "code",
      "source": [
        "test_loss, test_accuracy = model.evaluate(X_test, y_test)\n",
        "print(f\"Loss: {test_loss}, Accuracy: {test_accuracy}\")"
      ],
      "metadata": {
        "colab": {
          "base_uri": "https://localhost:8080/"
        },
        "id": "RUm45JlVfj6t",
        "outputId": "381fd340-b2fd-468c-b7bd-f5b9fc0cc91e"
      },
      "execution_count": null,
      "outputs": [
        {
          "output_type": "stream",
          "name": "stdout",
          "text": [
            "41/41 [==============================] - 1s 28ms/step - loss: 1.5082 - accuracy: 0.7603\n",
            "Loss: 1.5082229375839233, Accuracy: 0.7603053450584412\n"
          ]
        }
      ]
    }
  ]
}