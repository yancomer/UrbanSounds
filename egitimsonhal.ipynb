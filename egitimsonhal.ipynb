{
  "nbformat": 4,
  "nbformat_minor": 0,
  "metadata": {
    "colab": {
      "provenance": []
    },
    "kernelspec": {
      "name": "python3",
      "display_name": "Python 3"
    },
    "language_info": {
      "name": "python"
    },
    "accelerator": "GPU",
    "gpuClass": "standard"
  },
  "cells": [
    {
      "cell_type": "code",
      "execution_count": null,
      "metadata": {
        "id": "Ik0DtXvkopzD"
      },
      "outputs": [],
      "source": [
        "import pickle\n",
        "pickle_file_link = \"/content/drive/MyDrive/datas\"\n",
        "X_train = pickle.load(open(f\"{pickle_file_link}/X_train.pickle\",\"rb\"))\n",
        "y_train = pickle.load(open(f\"{pickle_file_link}/y_train.pickle\",\"rb\"))\n",
        "\n",
        "X_test = pickle.load(open(f\"{pickle_file_link}/X_test.pickle\",\"rb\"))\n",
        "y_test = pickle.load(open(f\"{pickle_file_link}/y_test.pickle\",\"rb\"))\n",
        "\n",
        "X_valid = pickle.load(open(f\"{pickle_file_link}/X_valid.pickle\",\"rb\"))\n",
        "y_valid = pickle.load(open(f\"{pickle_file_link}/y_valid.pickle\",\"rb\"))"
      ]
    },
    {
      "cell_type": "code",
      "source": [
        "import matplotlib.pyplot as pyplot\n",
        "import numpy as np\n",
        "from tensorflow import keras\n",
        "from keras.utils.np_utils import to_categorical\n",
        "from keras.models import Sequential\n",
        "from keras.layers import Dense, Dropout, Flatten, Conv2D, MaxPooling2D"
      ],
      "metadata": {
        "id": "3H8f4oytp28_"
      },
      "execution_count": null,
      "outputs": []
    },
    {
      "cell_type": "code",
      "source": [
        "X_train = np.array(X_train)\n",
        "y_train = np.array(y_train)\n",
        "\n",
        "X_test = np.array(X_test)\n",
        "y_test = np.array(y_test)\n",
        "\n",
        "X_valid = np.array(X_valid)\n",
        "y_valid = np.array(y_valid)"
      ],
      "metadata": {
        "id": "YMkFYsNyqwZd"
      },
      "execution_count": null,
      "outputs": []
    },
    {
      "cell_type": "code",
      "source": [
        "print(X_train.shape)\n",
        "print(X_test.shape)\n",
        "print(X_valid.shape)"
      ],
      "metadata": {
        "colab": {
          "base_uri": "https://localhost:8080/"
        },
        "id": "ydElpzO_F1L8",
        "outputId": "f73c8464-9862-4eff-f738-17fcd09b892d"
      },
      "execution_count": null,
      "outputs": [
        {
          "output_type": "stream",
          "name": "stdout",
          "text": [
            "(6679, 187, 250)\n",
            "(1310, 187, 250)\n",
            "(743, 187, 250)\n"
          ]
        }
      ]
    },
    {
      "cell_type": "code",
      "execution_count": null,
      "metadata": {
        "colab": {
          "base_uri": "https://localhost:8080/"
        },
        "id": "RqO3ulLyeJ0h",
        "outputId": "d6e7f3d7-45f6-4076-dc3c-d06692d00d05"
      },
      "outputs": [
        {
          "output_type": "stream",
          "name": "stdout",
          "text": [
            "[[1.         1.         0.45882356 ... 0.         0.         0.        ]\n",
            " [1.         1.         0.47450984 ... 0.         0.         0.        ]\n",
            " [1.         1.         0.47450984 ... 0.         0.         0.        ]\n",
            " ...\n",
            " [1.         1.         0.45882356 ... 0.         0.         0.        ]\n",
            " [1.         1.         0.9725491  ... 0.9725491  0.9725491  0.9725491 ]\n",
            " [1.         1.         1.         ... 1.         1.         1.        ]]\n",
            "[[1.         1.         0.45882356 ... 0.         0.         0.        ]\n",
            " [1.         1.         0.47450984 ... 0.         0.         0.        ]\n",
            " [1.         1.         0.47450984 ... 0.         0.         0.        ]\n",
            " ...\n",
            " [1.         1.         0.45882356 ... 0.28627452 0.30980393 0.24313727]\n",
            " [1.         1.         0.9725491  ... 0.9725491  0.9725491  0.9725491 ]\n",
            " [1.         1.         1.         ... 1.         1.         1.        ]]\n",
            "[[1.         1.         0.45882356 ... 0.         0.         0.        ]\n",
            " [1.         1.         0.47450984 ... 0.         0.         0.        ]\n",
            " [1.         1.         0.47450984 ... 0.         0.         0.        ]\n",
            " ...\n",
            " [1.         1.         0.45882356 ... 0.         0.         0.        ]\n",
            " [1.         1.         0.9725491  ... 0.9725491  0.9725491  0.9725491 ]\n",
            " [1.         1.         1.         ... 1.         1.         1.        ]]\n"
          ]
        }
      ],
      "source": [
        "print(X_train[0])\n",
        "print(X_test[0])\n",
        "print(X_valid[0])"
      ]
    },
    {
      "cell_type": "code",
      "source": [
        "X_train = X_train/255\n",
        "X_test = X_test/255\n",
        "X_valid = X_valid/255"
      ],
      "metadata": {
        "id": "A6je9dePe9Vy"
      },
      "execution_count": null,
      "outputs": []
    },
    {
      "cell_type": "code",
      "source": [
        "print(X_train[0])\n",
        "print(X_test[0])\n",
        "print(X_valid[0])"
      ],
      "metadata": {
        "colab": {
          "base_uri": "https://localhost:8080/"
        },
        "id": "buz6x7JafHfp",
        "outputId": "75fc92f3-fb94-4107-e520-d08d09a06c36"
      },
      "execution_count": null,
      "outputs": [
        {
          "output_type": "stream",
          "name": "stdout",
          "text": [
            "[[0.00392157 0.00392157 0.00179931 ... 0.         0.         0.        ]\n",
            " [0.00392157 0.00392157 0.00186082 ... 0.         0.         0.        ]\n",
            " [0.00392157 0.00392157 0.00186082 ... 0.         0.         0.        ]\n",
            " ...\n",
            " [0.00392157 0.00392157 0.00179931 ... 0.         0.         0.        ]\n",
            " [0.00392157 0.00392157 0.00381392 ... 0.00381392 0.00381392 0.00381392]\n",
            " [0.00392157 0.00392157 0.00392157 ... 0.00392157 0.00392157 0.00392157]]\n",
            "[[0.00392157 0.00392157 0.00179931 ... 0.         0.         0.        ]\n",
            " [0.00392157 0.00392157 0.00186082 ... 0.         0.         0.        ]\n",
            " [0.00392157 0.00392157 0.00186082 ... 0.         0.         0.        ]\n",
            " ...\n",
            " [0.00392157 0.00392157 0.00179931 ... 0.00112265 0.00121492 0.00095348]\n",
            " [0.00392157 0.00392157 0.00381392 ... 0.00381392 0.00381392 0.00381392]\n",
            " [0.00392157 0.00392157 0.00392157 ... 0.00392157 0.00392157 0.00392157]]\n",
            "[[0.00392157 0.00392157 0.00179931 ... 0.         0.         0.        ]\n",
            " [0.00392157 0.00392157 0.00186082 ... 0.         0.         0.        ]\n",
            " [0.00392157 0.00392157 0.00186082 ... 0.         0.         0.        ]\n",
            " ...\n",
            " [0.00392157 0.00392157 0.00179931 ... 0.         0.         0.        ]\n",
            " [0.00392157 0.00392157 0.00381392 ... 0.00381392 0.00381392 0.00381392]\n",
            " [0.00392157 0.00392157 0.00392157 ... 0.00392157 0.00392157 0.00392157]]\n"
          ]
        }
      ]
    },
    {
      "cell_type": "code",
      "source": [
        "X_train = X_train.reshape(X_train.shape[0], X_train.shape[1], X_train.shape[2], 1)\n",
        "X_test = X_test.reshape(X_test.shape[0], X_test.shape[1], X_test.shape[2], 1)\n",
        "X_valid = X_valid.reshape(X_valid.shape[0], X_valid.shape[1], X_valid.shape[2], 1)"
      ],
      "metadata": {
        "id": "ieY3Bm_mfHde"
      },
      "execution_count": null,
      "outputs": []
    },
    {
      "cell_type": "code",
      "source": [
        "y_train = to_categorical(y_train)\n",
        "y_test = to_categorical(y_test)\n",
        "y_valid = to_categorical(y_valid)"
      ],
      "metadata": {
        "id": "VtoI-IkYfHbY"
      },
      "execution_count": null,
      "outputs": []
    },
    {
      "cell_type": "code",
      "source": [
        "sample = X_train[0].reshape(X_train[0].shape[0], X_train[0].shape[1], 1)"
      ],
      "metadata": {
        "id": "U942wXGrfHW7"
      },
      "execution_count": null,
      "outputs": []
    },
    {
      "cell_type": "code",
      "source": [
        "model = Sequential()\n",
        "#add model layers\n",
        "model.add(Conv2D(64, kernel_size=3, activation='relu', input_shape=sample.shape))\n",
        "model.add(MaxPooling2D(2,2))\n",
        "model.add(Dropout(0.25))\n",
        "model.add(Conv2D(32, kernel_size=3, activation='relu'))\n",
        "model.add(MaxPooling2D(2,2))\n",
        "model.add(Dropout(0.25))\n",
        "model.add(Flatten())\n",
        "model.add(Dense(128, activation='relu'))\n",
        "model.add(Dense(10, activation='softmax'))"
      ],
      "metadata": {
        "id": "SBWIPdPIfHTl"
      },
      "execution_count": null,
      "outputs": []
    },
    {
      "cell_type": "code",
      "source": [
        "model.compile(optimizer='adam', loss='categorical_crossentropy', metrics=['accuracy'])"
      ],
      "metadata": {
        "id": "3xMdEG3FfHRX"
      },
      "execution_count": null,
      "outputs": []
    },
    {
      "cell_type": "code",
      "source": [
        "model.summary()"
      ],
      "metadata": {
        "colab": {
          "base_uri": "https://localhost:8080/"
        },
        "id": "H5G9kE6lAoPx",
        "outputId": "564ce2c9-072a-4c16-9c8b-23bf5ac61e70"
      },
      "execution_count": null,
      "outputs": [
        {
          "output_type": "stream",
          "name": "stdout",
          "text": [
            "Model: \"sequential\"\n",
            "_________________________________________________________________\n",
            " Layer (type)                Output Shape              Param #   \n",
            "=================================================================\n",
            " conv2d (Conv2D)             (None, 185, 248, 64)      640       \n",
            "                                                                 \n",
            " max_pooling2d (MaxPooling2D  (None, 92, 124, 64)      0         \n",
            " )                                                               \n",
            "                                                                 \n",
            " dropout (Dropout)           (None, 92, 124, 64)       0         \n",
            "                                                                 \n",
            " conv2d_1 (Conv2D)           (None, 90, 122, 32)       18464     \n",
            "                                                                 \n",
            " max_pooling2d_1 (MaxPooling  (None, 45, 61, 32)       0         \n",
            " 2D)                                                             \n",
            "                                                                 \n",
            " dropout_1 (Dropout)         (None, 45, 61, 32)        0         \n",
            "                                                                 \n",
            " flatten (Flatten)           (None, 87840)             0         \n",
            "                                                                 \n",
            " dense (Dense)               (None, 128)               11243648  \n",
            "                                                                 \n",
            " dense_1 (Dense)             (None, 10)                1290      \n",
            "                                                                 \n",
            "=================================================================\n",
            "Total params: 11,264,042\n",
            "Trainable params: 11,264,042\n",
            "Non-trainable params: 0\n",
            "_________________________________________________________________\n"
          ]
        }
      ]
    },
    {
      "cell_type": "code",
      "source": [
        "history = model.fit(X_train, y_train, validation_data=(X_test,y_test), epochs=20, batch_size=32)"
      ],
      "metadata": {
        "colab": {
          "base_uri": "https://localhost:8080/"
        },
        "id": "F7ngc0CWfkAV",
        "outputId": "2f7f09b5-aa24-4895-b86e-24cd8c061e87"
      },
      "execution_count": null,
      "outputs": [
        {
          "output_type": "stream",
          "name": "stdout",
          "text": [
            "Epoch 1/20\n",
            "209/209 [==============================] - 22s 67ms/step - loss: 2.2634 - accuracy: 0.1181 - val_loss: 2.2635 - val_accuracy: 0.0969\n",
            "Epoch 2/20\n",
            "209/209 [==============================] - 13s 62ms/step - loss: 1.8825 - accuracy: 0.3095 - val_loss: 1.6005 - val_accuracy: 0.4130\n",
            "Epoch 3/20\n",
            "209/209 [==============================] - 13s 62ms/step - loss: 1.4212 - accuracy: 0.4965 - val_loss: 1.3712 - val_accuracy: 0.5328\n",
            "Epoch 4/20\n",
            "209/209 [==============================] - 13s 62ms/step - loss: 1.2847 - accuracy: 0.5483 - val_loss: 1.3941 - val_accuracy: 0.5221\n",
            "Epoch 5/20\n",
            "209/209 [==============================] - 13s 61ms/step - loss: 1.2228 - accuracy: 0.5703 - val_loss: 1.2238 - val_accuracy: 0.5695\n",
            "Epoch 6/20\n",
            "209/209 [==============================] - 13s 61ms/step - loss: 1.1344 - accuracy: 0.6088 - val_loss: 1.2467 - val_accuracy: 0.5695\n",
            "Epoch 7/20\n",
            "209/209 [==============================] - 13s 61ms/step - loss: 1.0882 - accuracy: 0.6312 - val_loss: 1.1619 - val_accuracy: 0.6023\n",
            "Epoch 8/20\n",
            "209/209 [==============================] - 13s 61ms/step - loss: 1.0413 - accuracy: 0.6428 - val_loss: 1.1468 - val_accuracy: 0.6153\n",
            "Epoch 9/20\n",
            "209/209 [==============================] - 13s 61ms/step - loss: 1.0110 - accuracy: 0.6645 - val_loss: 1.1099 - val_accuracy: 0.6389\n",
            "Epoch 10/20\n",
            "209/209 [==============================] - 13s 61ms/step - loss: 0.9922 - accuracy: 0.6736 - val_loss: 1.0855 - val_accuracy: 0.6527\n",
            "Epoch 11/20\n",
            "209/209 [==============================] - 13s 61ms/step - loss: 0.9538 - accuracy: 0.6820 - val_loss: 1.0607 - val_accuracy: 0.6656\n",
            "Epoch 12/20\n",
            "209/209 [==============================] - 13s 61ms/step - loss: 0.9267 - accuracy: 0.6931 - val_loss: 1.0312 - val_accuracy: 0.6695\n",
            "Epoch 13/20\n",
            "209/209 [==============================] - 13s 61ms/step - loss: 0.8942 - accuracy: 0.7029 - val_loss: 1.0789 - val_accuracy: 0.6473\n",
            "Epoch 14/20\n",
            "209/209 [==============================] - 13s 61ms/step - loss: 0.8825 - accuracy: 0.7136 - val_loss: 1.0518 - val_accuracy: 0.6527\n",
            "Epoch 15/20\n",
            "209/209 [==============================] - 13s 61ms/step - loss: 0.8477 - accuracy: 0.7196 - val_loss: 1.0173 - val_accuracy: 0.6855\n",
            "Epoch 16/20\n",
            "209/209 [==============================] - 13s 62ms/step - loss: 0.8268 - accuracy: 0.7306 - val_loss: 0.9895 - val_accuracy: 0.6855\n",
            "Epoch 17/20\n",
            "209/209 [==============================] - 13s 62ms/step - loss: 0.8059 - accuracy: 0.7339 - val_loss: 1.0205 - val_accuracy: 0.6695\n",
            "Epoch 18/20\n",
            "209/209 [==============================] - 13s 61ms/step - loss: 0.7911 - accuracy: 0.7449 - val_loss: 0.9768 - val_accuracy: 0.6893\n",
            "Epoch 19/20\n",
            "209/209 [==============================] - 13s 61ms/step - loss: 0.7816 - accuracy: 0.7404 - val_loss: 0.9952 - val_accuracy: 0.6794\n",
            "Epoch 20/20\n",
            "209/209 [==============================] - 13s 62ms/step - loss: 0.7564 - accuracy: 0.7503 - val_loss: 1.0022 - val_accuracy: 0.6740\n"
          ]
        }
      ]
    },
    {
      "cell_type": "code",
      "source": [
        "pyplot.plot(history.history[\"loss\"],label=\"loss\")\n",
        "pyplot.plot(history.history[\"val_loss\"],label=\"val_loss\")\n",
        "\n",
        "pyplot.xlabel(\"Epoch\")\n",
        "pyplot.ylabel(\"loss\")\n",
        "\n",
        "pyplot.legend()\n",
        "pyplot.show()"
      ],
      "metadata": {
        "colab": {
          "base_uri": "https://localhost:8080/",
          "height": 279
        },
        "id": "tKKfxkwOfj-o",
        "outputId": "a69b815e-e0bd-4e65-8fc3-47e5389884c7"
      },
      "execution_count": null,
      "outputs": [
        {
          "output_type": "display_data",
          "data": {
            "text/plain": [
              "<Figure size 432x288 with 1 Axes>"
            ],
            "image/png": "[encoded data removed]"
          },
          "metadata": {
            "needs_background": "light"
          }
        }
      ]
    },
    {
      "cell_type": "code",
      "source": [
        "pyplot.plot(history.history[\"accuracy\"],label=\"accuracy\")\n",
        "pyplot.plot(history.history[\"val_accuracy\"],label=\"val_accuracy\")\n",
        "\n",
        "pyplot.xlabel(\"Epoch\")\n",
        "pyplot.ylabel(\"Accuracy\")\n",
        "\n",
        "pyplot.legend()\n",
        "pyplot.show()"
      ],
      "metadata": {
        "colab": {
          "base_uri": "https://localhost:8080/",
          "height": 279
        },
        "id": "VZDVj0Fwfj8r",
        "outputId": "13781eaf-be93-46f9-dbb3-8ad018a29459"
      },
      "execution_count": null,
      "outputs": [
        {
          "output_type": "display_data",
          "data": {
            "text/plain": [
              "<Figure size 432x288 with 1 Axes>"
            ],
            "image/png": "[encoded data removed]"
          },
          "metadata": {
            "needs_background": "light"
          }
        }
      ]
    }
  ]
}