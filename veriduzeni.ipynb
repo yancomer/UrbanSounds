{
  "nbformat": 4,
  "nbformat_minor": 0,
  "metadata": {
    "colab": {
      "provenance": []
    },
    "kernelspec": {
      "name": "python3",
      "display_name": "Python 3"
    },
    "language_info": {
      "name": "python"
    }
  },
  "cells": [
    {
      "cell_type": "code",
      "execution_count": null,
      "metadata": {
        "id": "4NZx0ibemWL7"
      },
      "outputs": [],
      "source": [
        "import cv2\n",
        "import matplotlib.pyplot as pyplot\n",
        "import numpy as np\n",
        "from glob import glob"
      ]
    },
    {
      "cell_type": "code",
      "source": [
        "!gdown 1jTAmuux8ggCPh_h0T2TEiOo_XrRBel2D"
      ],
      "metadata": {
        "colab": {
          "base_uri": "https://localhost:8080/"
        },
        "id": "E6QotrApmuJq",
        "outputId": "ed0a4051-9f96-4f87-f945-72d43dfd17bd"
      },
      "execution_count": null,
      "outputs": [
        {
          "output_type": "stream",
          "name": "stdout",
          "text": [
            "Downloading...\n",
            "From: https://drive.google.com/uc?id=1jTAmuux8ggCPh_h0T2TEiOo_XrRBel2D\n",
            "To: /content/spectrograms.zip\n",
            "100% 385M/385M [00:01<00:00, 258MB/s]\n"
          ]
        }
      ]
    },
    {
      "cell_type": "code",
      "source": [
        "!unzip -q spectrograms.zip"
      ],
      "metadata": {
        "id": "O7I1Dv9wmuGK"
      },
      "execution_count": null,
      "outputs": []
    },
    {
      "cell_type": "code",
      "source": [
        "spectograms = glob('./spectrograms/*/*.png')"
      ],
      "metadata": {
        "id": "aDLHbXrAmuD_"
      },
      "execution_count": null,
      "outputs": []
    },
    {
      "cell_type": "code",
      "source": [
        "image = cv2.imread(spectograms[0])\n",
        "norm_image = cv2.normalize(image,None, alpha=0, beta=1, norm_type=cv2.NORM_MINMAX, dtype=cv2.CV_32F)"
      ],
      "metadata": {
        "id": "AHJ9u7xNmuBf"
      },
      "execution_count": null,
      "outputs": []
    },
    {
      "cell_type": "code",
      "source": [
        "print('Original Dimensions : ',image.shape)\n",
        "\n",
        "def resize_img(image, scale_percent = 50):\n",
        "    # scale_percent = 50 # percent of original size\n",
        "    width = int(image.shape[1] * scale_percent / 100)\n",
        "    height = int(image.shape[0] * scale_percent / 100)\n",
        "    dim = (width, height)\n",
        "      \n",
        "    # resize image\n",
        "    resized = cv2.resize(image, dim, interpolation = cv2.INTER_AREA)\n",
        "    return resized\n",
        "\n",
        "resized = resize_img(image)\n",
        "\n",
        "print('Resized Dimensions : ',resized.shape)\n",
        "def preprocess(spectogram_path):\n",
        "    image = cv2.imread(spectogram_path)\n",
        "    # Grayscale conversion\n",
        "    gray = cv2.cvtColor(image, cv2.COLOR_BGR2GRAY)\n",
        "    # Resizing Image\n",
        "    resized_gray = resize_img(gray, scale_percent=50)\n",
        "\n",
        "    # Normalize image between 0 and 1\n",
        "    norm_image = cv2.normalize(resized_gray, None, alpha=0, beta=1, norm_type=cv2.NORM_MINMAX, dtype=cv2.CV_32F)\n",
        "\n",
        "    return norm_image"
      ],
      "metadata": {
        "colab": {
          "base_uri": "https://localhost:8080/"
        },
        "id": "57jshjh1mt_b",
        "outputId": "ad875b59-ba3c-4da9-f064-2e514890b4d9"
      },
      "execution_count": null,
      "outputs": [
        {
          "output_type": "stream",
          "name": "stdout",
          "text": [
            "Original Dimensions :  (374, 500, 3)\n",
            "Resized Dimensions :  (187, 250, 3)\n"
          ]
        }
      ]
    },
    {
      "cell_type": "code",
      "source": [
        "all_data = []\n",
        "for spectogram in spectograms:\n",
        "    image = preprocess(spectogram)\n",
        "    label = int(spectogram.split('/')[2])\n",
        "    img_with_label = np.array([image, label])\n",
        "    all_data.append(img_with_label)"
      ],
      "metadata": {
        "colab": {
          "base_uri": "https://localhost:8080/"
        },
        "id": "EJVU7c_imt85",
        "outputId": "419bcba9-d5d7-4795-eab7-3b402f3ed2ed"
      },
      "execution_count": null,
      "outputs": [
        {
          "output_type": "stream",
          "name": "stderr",
          "text": [
            "/usr/local/lib/python3.7/dist-packages/ipykernel_launcher.py:5: VisibleDeprecationWarning: Creating an ndarray from ragged nested sequences (which is a list-or-tuple of lists-or-tuples-or ndarrays with different lengths or shapes) is deprecated. If you meant to do this, you must specify 'dtype=object' when creating the ndarray.\n",
            "  \"\"\"\n"
          ]
        }
      ]
    },
    {
      "cell_type": "code",
      "source": [
        "from sklearn.model_selection import train_test_split"
      ],
      "metadata": {
        "id": "dIa6Neykmt6s"
      },
      "execution_count": null,
      "outputs": []
    },
    {
      "cell_type": "code",
      "source": [
        "X = list(map(lambda x: x[0], all_data))\n",
        "y = list(map(lambda x: x[1], all_data))\n",
        "\n",
        "X_train_, X_test, y_train_, y_test = train_test_split(X, y, test_size=0.15, random_state=42)\n",
        "X_train, X_valid, y_train, y_valid = train_test_split(X_train_, y_train_, test_size=0.1, random_state=42)"
      ],
      "metadata": {
        "id": "dEcIVoVymt4Z"
      },
      "execution_count": null,
      "outputs": []
    },
    {
      "cell_type": "code",
      "source": [
        "import pickle\n",
        "with open(\"/content/spectrograms/X_train.pickle\",\"wb\") as f:\n",
        "  pickle.dump(X_train, f)\n",
        "with open(\"/content/spectrograms/y_train.pickle\",\"wb\") as f:\n",
        "  pickle.dump(y_train, f)\n",
        "with open(\"/content/spectrograms/X_test.pickle\",\"wb\") as f:\n",
        "  pickle.dump(X_test, f)\n",
        "with open(\"/content/spectrograms/y_test.pickle\",\"wb\") as f:\n",
        "  pickle.dump(y_test, f)\n",
        "with open(\"/content/spectrograms/X_valid.pickle\",\"wb\") as f:\n",
        "  pickle.dump(X_valid, f)  \n",
        "with open(\"/content/spectrograms/y_valid.pickle\",\"wb\") as f:\n",
        "  pickle.dump(y_valid, f)"
      ],
      "metadata": {
        "id": "sLu5Q19pmt2M"
      },
      "execution_count": null,
      "outputs": []
    },
    {
      "cell_type": "code",
      "source": [
        "import pickle\n",
        "with open(\"/content/drive/MyDrive/datas/X_train.pickle\",\"wb\") as f:\n",
        "  pickle.dump(X_train, f)\n",
        "with open(\"/content/drive/MyDrive/datas/y_train.pickle\",\"wb\") as f:\n",
        "  pickle.dump(y_train, f)\n",
        "with open(\"/content/drive/MyDrive/datas/X_test.pickle\",\"wb\") as f:\n",
        "  pickle.dump(X_test, f)\n",
        "with open(\"/content/drive/MyDrive/datas/y_test.pickle\",\"wb\") as f:\n",
        "  pickle.dump(y_test, f)\n",
        "with open(\"/content/drive/MyDrive/datas/X_valid.pickle\",\"wb\") as f:\n",
        "  pickle.dump(X_valid, f)  \n",
        "with open(\"/content/drive/MyDrive/datas/y_valid.pickle\",\"wb\") as f:\n",
        "  pickle.dump(y_valid, f)"
      ],
      "metadata": {
        "id": "10H-XWt0mtz1"
      },
      "execution_count": null,
      "outputs": []
    }
  ]
}